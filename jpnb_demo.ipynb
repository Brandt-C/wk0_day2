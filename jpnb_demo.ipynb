{
 "cells": [
  {
   "cell_type": "code",
   "execution_count": 5,
   "id": "d1a8fffb",
   "metadata": {},
   "outputs": [
    {
     "name": "stdout",
     "output_type": "stream",
     "text": [
      "hello world!!!\n"
     ]
    }
   ],
   "source": [
    "print('hello world!!!')"
   ]
  },
  {
   "cell_type": "markdown",
   "id": "71022209",
   "metadata": {},
   "source": [
    "## this is a header!"
   ]
  },
  {
   "cell_type": "markdown",
   "id": "cd6d7760",
   "metadata": {},
   "source": [
    "### Let's talk about python today!!"
   ]
  },
  {
   "cell_type": "code",
   "execution_count": 7,
   "id": "a1e680ac",
   "metadata": {},
   "outputs": [],
   "source": [
    "x = 67"
   ]
  },
  {
   "cell_type": "code",
   "execution_count": 8,
   "id": "e3312ac9",
   "metadata": {},
   "outputs": [
    {
     "name": "stdout",
     "output_type": "stream",
     "text": [
      "67\n"
     ]
    }
   ],
   "source": [
    "print(x)"
   ]
  },
  {
   "cell_type": "code",
   "execution_count": null,
   "id": "759d189d",
   "metadata": {},
   "outputs": [],
   "source": []
  }
 ],
 "metadata": {
  "kernelspec": {
   "display_name": "Python 3 (ipykernel)",
   "language": "python",
   "name": "python3"
  },
  "language_info": {
   "codemirror_mode": {
    "name": "ipython",
    "version": 3
   },
   "file_extension": ".py",
   "mimetype": "text/x-python",
   "name": "python",
   "nbconvert_exporter": "python",
   "pygments_lexer": "ipython3",
   "version": "3.9.7"
  }
 },
 "nbformat": 4,
 "nbformat_minor": 5
}
